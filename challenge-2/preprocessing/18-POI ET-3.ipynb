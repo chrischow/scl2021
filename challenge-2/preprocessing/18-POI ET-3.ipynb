{
 "cells": [
  {
   "cell_type": "markdown",
   "metadata": {},
   "source": [
    "# Process Data"
   ]
  },
  {
   "cell_type": "code",
   "execution_count": 1,
   "metadata": {},
   "outputs": [],
   "source": [
    "# Import required modules\n",
    "import numpy as np\n",
    "import pandas as pd\n",
    "import pickle\n",
    "import re\n",
    "import warnings\n",
    "\n",
    "from tqdm.notebook import tqdm\n",
    "\n",
    "# Settings\n",
    "pd.set_option('max_colwidth', 80)\n",
    "pd.options.display.max_rows = 200\n",
    "warnings.filterwarnings('ignore')"
   ]
  },
  {
   "cell_type": "markdown",
   "metadata": {},
   "source": [
    "## Load Data"
   ]
  },
  {
   "cell_type": "code",
   "execution_count": 2,
   "metadata": {},
   "outputs": [],
   "source": [
    "# Load data\n",
    "df = pd.read_csv('train.csv')\n",
    "\n",
    "# Separate POI and street\n",
    "df['poi'] = df['POI/street'].str.split('/', expand=True)[0]\n",
    "df['street'] = df['POI/street'].str.split('/', expand=True)[1]\n",
    "df['raw_list'] = df.raw_address.str.split()"
   ]
  },
  {
   "cell_type": "markdown",
   "metadata": {},
   "source": [
    "## Replace Extensions"
   ]
  },
  {
   "cell_type": "markdown",
   "metadata": {},
   "source": [
    "### Straightforward Replacements"
   ]
  },
  {
   "cell_type": "code",
   "execution_count": 3,
   "metadata": {},
   "outputs": [],
   "source": [
    "# Extend bank neg to bank negara\n",
    "df.loc[df.raw_address.str.contains('bank neg '), 'raw_address'] = df.loc[df.raw_address.str.contains('bank neg '), 'raw_address'].str.replace('bank neg ', 'bank negara ')\n",
    "\n",
    "# Extend indon to indonesia\n",
    "df.loc[df.raw_address.str.contains('indon '), 'raw_address'] = df.loc[df.raw_address.str.contains('indon '), 'raw_address'].str.replace('indon ', 'indonesia ')\n",
    "df.loc[df.raw_address.str.contains('indon,'), 'raw_address'] = df.loc[df.raw_address.str.contains('indon,'), 'raw_address'].str.replace('indon,', 'indonesia,')\n",
    "\n",
    "# Update raw list\n",
    "df['raw_list'] = df.raw_address.str.split()"
   ]
  },
  {
   "cell_type": "code",
   "execution_count": 4,
   "metadata": {},
   "outputs": [
    {
     "data": {
      "application/vnd.jupyter.widget-view+json": {
       "model_id": "174ce5fec406482caa246f550834ddea",
       "version_major": 2,
       "version_minor": 0
      },
      "text/plain": [
       "  0%|          | 0/1165 [00:00<?, ?it/s]"
      ]
     },
     "metadata": {},
     "output_type": "display_data"
    }
   ],
   "source": [
    "# Load extensions\n",
    "poi_ext = pd.read_csv('analysis/poi_et-3.csv')\n",
    "\n",
    "# Replace word for word\n",
    "for i in tqdm(range(poi_ext.shape[0])):\n",
    "    word = poi_ext.word.iloc[i]\n",
    "    ext = poi_ext.ext.iloc[i]\n",
    "    \n",
    "    df['raw_address'] = df['raw_address'].str.replace(r'\\b(' + word + r')\\b', ext)"
   ]
  },
  {
   "cell_type": "markdown",
   "metadata": {},
   "source": [
    "## Prepare Training Data"
   ]
  },
  {
   "cell_type": "code",
   "execution_count": 5,
   "metadata": {},
   "outputs": [
    {
     "data": {
      "application/vnd.jupyter.widget-view+json": {
       "model_id": "010b65c43d514470978ee7565f7dac7a",
       "version_major": 2,
       "version_minor": 0
      },
      "text/plain": [
       "  0%|          | 0/300000 [00:00<?, ?it/s]"
      ]
     },
     "metadata": {},
     "output_type": "display_data"
    }
   ],
   "source": [
    "poi_matches = []\n",
    "\n",
    "for i in tqdm(range(df.shape[0])):\n",
    "    try:\n",
    "        poi_matches.append(re.search(df.poi.iloc[i], df.raw_address.iloc[i]))\n",
    "    except:\n",
    "        poi_matches.append(re.search(\n",
    "            re.escape(df.poi.iloc[i]),\n",
    "            re.escape(df.raw_address.iloc[i])\n",
    "        ))"
   ]
  },
  {
   "cell_type": "code",
   "execution_count": 6,
   "metadata": {},
   "outputs": [],
   "source": [
    "# Append matches\n",
    "df['poi_matches'] = poi_matches\n",
    "\n",
    "# Pure main\n",
    "df_main = df[df.poi_matches.notnull()].copy()\n",
    "\n",
    "# Extensions\n",
    "df_ext = df[df.poi_matches.isnull()]\n",
    "\n",
    "# Add start and end indices\n",
    "df_main['poi_start'] = [p.start() if p is not None else -1 for p in df_main.poi_matches]\n",
    "df_main['poi_end'] = [p.end() if p is not None else -1 for p in df_main.poi_matches]\n",
    "\n",
    "# Drop unused\n",
    "df_main = df_main.drop(['poi_matches'], axis=1)"
   ]
  },
  {
   "cell_type": "code",
   "execution_count": 7,
   "metadata": {},
   "outputs": [
    {
     "data": {
      "application/vnd.jupyter.widget-view+json": {
       "model_id": "ffbec784f055482386d78df749888877",
       "version_major": 2,
       "version_minor": 0
      },
      "text/plain": [
       "  0%|          | 0/270770 [00:00<?, ?it/s]"
      ]
     },
     "metadata": {},
     "output_type": "display_data"
    },
    {
     "name": "stdout",
     "output_type": "stream",
     "text": [
      "270770\n"
     ]
    }
   ],
   "source": [
    "data_train = []\n",
    "for i in tqdm(range(df_main.shape[0])):\n",
    "    \n",
    "    # Pull data\n",
    "    poi_start = df_main.poi_start.iloc[i]\n",
    "    poi_end = df_main.poi_end.iloc[i]\n",
    "    \n",
    "    entities = []\n",
    "    \n",
    "    \n",
    "    if poi_start < poi_end:\n",
    "        entities.append(\n",
    "            (poi_start, poi_end, 'POI')\n",
    "        )\n",
    "    \n",
    "    data_train.append(\n",
    "        (\n",
    "            df_main.raw_address.iloc[i],\n",
    "            {\n",
    "                'entities': entities\n",
    "            }\n",
    "        )\n",
    "    )\n",
    "print(len(data_train))"
   ]
  },
  {
   "cell_type": "code",
   "execution_count": 8,
   "metadata": {},
   "outputs": [],
   "source": [
    "with open('training_data/poi-5.pkl', 'wb') as file:\n",
    "    pickle.dump(data_train, file)"
   ]
  },
  {
   "cell_type": "code",
   "execution_count": null,
   "metadata": {},
   "outputs": [],
   "source": []
  },
  {
   "cell_type": "markdown",
   "metadata": {},
   "source": [
    "## Prepare Test Data"
   ]
  },
  {
   "cell_type": "code",
   "execution_count": 9,
   "metadata": {},
   "outputs": [],
   "source": [
    "# Load data\n",
    "te = pd.read_csv('test.csv')"
   ]
  },
  {
   "cell_type": "code",
   "execution_count": 10,
   "metadata": {},
   "outputs": [],
   "source": [
    "# Extend bank neg to bank negara\n",
    "te.loc[te.raw_address.str.contains('bank neg '), 'raw_address'] = te.loc[te.raw_address.str.contains('bank neg '), 'raw_address'].str.replace('bank neg ', 'bank negara ')\n",
    "\n",
    "# Extend indon to indonesia\n",
    "te.loc[te.raw_address.str.contains('indon '), 'raw_address'] = te.loc[te.raw_address.str.contains('indon '), 'raw_address'].str.replace('indon ', 'indonesia ')\n",
    "te.loc[te.raw_address.str.contains('indon,'), 'raw_address'] = te.loc[te.raw_address.str.contains('indon,'), 'raw_address'].str.replace('indon,', 'indonesia,')\n",
    "\n",
    "# Update raw list\n",
    "# te['raw_list'] = te.raw_address.str.split()"
   ]
  },
  {
   "cell_type": "code",
   "execution_count": 11,
   "metadata": {},
   "outputs": [
    {
     "data": {
      "application/vnd.jupyter.widget-view+json": {
       "model_id": "00ce45abedba4ee29ba4859d2c77ad21",
       "version_major": 2,
       "version_minor": 0
      },
      "text/plain": [
       "  0%|          | 0/1165 [00:00<?, ?it/s]"
      ]
     },
     "metadata": {},
     "output_type": "display_data"
    }
   ],
   "source": [
    "# Load extensions\n",
    "# poi_ext = pd.read_csv('analysis/poi_ext.csv')\n",
    "\n",
    "# Replace word for word\n",
    "for i in tqdm(range(poi_ext.shape[0])):\n",
    "    word = poi_ext.word.iloc[i]\n",
    "    ext = poi_ext.ext.iloc[i]\n",
    "    \n",
    "    te['raw_address'] = te['raw_address'].str.replace(r'\\b(' + word + r')\\b', ext)"
   ]
  },
  {
   "cell_type": "code",
   "execution_count": 12,
   "metadata": {},
   "outputs": [],
   "source": [
    "te = te[['id', 'raw_address']]"
   ]
  },
  {
   "cell_type": "code",
   "execution_count": 13,
   "metadata": {},
   "outputs": [],
   "source": [
    "te.to_csv('test_data/test_poi-et3.csv', index=False)"
   ]
  },
  {
   "cell_type": "code",
   "execution_count": null,
   "metadata": {},
   "outputs": [],
   "source": []
  }
 ],
 "metadata": {
  "kernelspec": {
   "display_name": "nlp_base",
   "language": "python",
   "name": "nlp_base"
  },
  "language_info": {
   "codemirror_mode": {
    "name": "ipython",
    "version": 3
   },
   "file_extension": ".py",
   "mimetype": "text/x-python",
   "name": "python",
   "nbconvert_exporter": "python",
   "pygments_lexer": "ipython3",
   "version": "3.6.12"
  }
 },
 "nbformat": 4,
 "nbformat_minor": 4
}
