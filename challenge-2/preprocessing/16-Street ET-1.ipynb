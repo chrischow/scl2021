{
 "cells": [
  {
   "cell_type": "markdown",
   "metadata": {},
   "source": [
    "# Process Street Data\n",
    "Remove postal codes: 3 digits or more"
   ]
  },
  {
   "cell_type": "code",
   "execution_count": 1,
   "metadata": {},
   "outputs": [],
   "source": [
    "# Import required modules\n",
    "import numpy as np\n",
    "import pandas as pd\n",
    "import pickle\n",
    "import re\n",
    "import warnings\n",
    "\n",
    "from tqdm.notebook import tqdm\n",
    "\n",
    "# Settings\n",
    "pd.set_option('max_colwidth', 80)\n",
    "pd.options.display.max_rows = 200\n",
    "warnings.filterwarnings('ignore')"
   ]
  },
  {
   "cell_type": "markdown",
   "metadata": {},
   "source": [
    "## Load Data"
   ]
  },
  {
   "cell_type": "code",
   "execution_count": 2,
   "metadata": {},
   "outputs": [],
   "source": [
    "# Load data\n",
    "df = pd.read_csv('train.csv')\n",
    "\n",
    "# Separate POI and street\n",
    "df['poi'] = df['POI/street'].str.split('/', expand=True)[0]\n",
    "df['street'] = df['POI/street'].str.split('/', expand=True)[1]\n",
    "\n",
    "# Extract non-extended examples only\n",
    "df['str_ext'] = df.apply(lambda row: not row.street in row.raw_address, axis=1)\n",
    "df_main = df[~df.str_ext]"
   ]
  },
  {
   "cell_type": "markdown",
   "metadata": {},
   "source": [
    "## Replace Extensions"
   ]
  },
  {
   "cell_type": "code",
   "execution_count": 3,
   "metadata": {},
   "outputs": [
    {
     "data": {
      "application/vnd.jupyter.widget-view+json": {
       "model_id": "522475f2250f4f958604984413df6dc0",
       "version_major": 2,
       "version_minor": 0
      },
      "text/plain": [
       "  0%|          | 0/99 [00:00<?, ?it/s]"
      ]
     },
     "metadata": {},
     "output_type": "display_data"
    }
   ],
   "source": [
    "# Load extensions\n",
    "str_ext = pd.read_csv('analysis/str_et-1.csv')\n",
    "\n",
    "# Replace word for word\n",
    "for i in tqdm(range(str_ext.shape[0])):\n",
    "    word = str_ext.word.iloc[i]\n",
    "    ext = str_ext.ext.iloc[i]\n",
    "    \n",
    "    df['raw_address'] = df['raw_address'].str.replace(r'\\b(' + word + r')\\b', ext)"
   ]
  },
  {
   "cell_type": "markdown",
   "metadata": {},
   "source": [
    "## Prepare Training Data"
   ]
  },
  {
   "cell_type": "code",
   "execution_count": 4,
   "metadata": {},
   "outputs": [
    {
     "data": {
      "application/vnd.jupyter.widget-view+json": {
       "model_id": "70df6b45e5644f0aab626c141bc5183c",
       "version_major": 2,
       "version_minor": 0
      },
      "text/plain": [
       "  0%|          | 0/282613 [00:00<?, ?it/s]"
      ]
     },
     "metadata": {},
     "output_type": "display_data"
    }
   ],
   "source": [
    "str_matches = []\n",
    "\n",
    "for i in tqdm(range(df_main.shape[0])):\n",
    "    if df_main.street.iloc[i] != '':\n",
    "        try:\n",
    "            temp_list = list(re.finditer(r'\\b(' + str(df_main.street.iloc[i]) + r')\\b', df_main.raw_address.iloc[i]))\n",
    "            str_matches.append(temp_list)\n",
    "        except:\n",
    "            \n",
    "            temp_list = list(re.finditer(\n",
    "                r'\\b(' + re.escape(df_main.street.iloc[i]) + r')\\b',\n",
    "                re.escape(df_main.raw_address.iloc[i])\n",
    "            ))\n",
    "            str_matches.append(temp_list)\n",
    "    else:\n",
    "        str_matches.append([])"
   ]
  },
  {
   "cell_type": "code",
   "execution_count": 5,
   "metadata": {},
   "outputs": [],
   "source": [
    "# Append matches\n",
    "df_main['str_matches'] = str_matches\n",
    "df_main['str_lens'] = df_main.str_matches.apply(len)"
   ]
  },
  {
   "cell_type": "code",
   "execution_count": 6,
   "metadata": {},
   "outputs": [
    {
     "data": {
      "application/vnd.jupyter.widget-view+json": {
       "model_id": "33258329a1c14fe4bbdb339aed362ec0",
       "version_major": 2,
       "version_minor": 0
      },
      "text/plain": [
       "  0%|          | 0/282613 [00:00<?, ?it/s]"
      ]
     },
     "metadata": {},
     "output_type": "display_data"
    }
   ],
   "source": [
    "# Get full dataset\n",
    "data_train = []\n",
    "\n",
    "for i in tqdm(range(df_main.shape[0])):\n",
    "    \n",
    "    entities = []\n",
    "    \n",
    "    if df_main.str_lens.iloc[i] > 0:\n",
    "        for m in df_main.str_matches.iloc[i]:\n",
    "            str_start = m.start()\n",
    "            str_end = m.end()\n",
    "            if str_start < str_end:\n",
    "                entities.append(\n",
    "                    (str_start, str_end, 'STREET')\n",
    "                )\n",
    "        \n",
    "    data_train.append(\n",
    "        (\n",
    "            df_main.raw_address.iloc[i],\n",
    "            {\n",
    "                'entities': entities\n",
    "            }\n",
    "        )\n",
    "    )"
   ]
  },
  {
   "cell_type": "code",
   "execution_count": 7,
   "metadata": {},
   "outputs": [],
   "source": [
    "with open('training_data/street-et1.pkl', 'wb') as file:\n",
    "    pickle.dump(data_train, file)"
   ]
  },
  {
   "cell_type": "code",
   "execution_count": null,
   "metadata": {},
   "outputs": [],
   "source": []
  },
  {
   "cell_type": "markdown",
   "metadata": {},
   "source": [
    "## Prepare Test Data"
   ]
  },
  {
   "cell_type": "code",
   "execution_count": 8,
   "metadata": {},
   "outputs": [],
   "source": [
    "# Load data\n",
    "te = pd.read_csv('test.csv')"
   ]
  },
  {
   "cell_type": "code",
   "execution_count": 9,
   "metadata": {},
   "outputs": [
    {
     "data": {
      "application/vnd.jupyter.widget-view+json": {
       "model_id": "ab7d60c52d4646e1a22869f02425f93f",
       "version_major": 2,
       "version_minor": 0
      },
      "text/plain": [
       "  0%|          | 0/99 [00:00<?, ?it/s]"
      ]
     },
     "metadata": {},
     "output_type": "display_data"
    }
   ],
   "source": [
    "# Load extensions\n",
    "# poi_ext = pd.read_csv('analysis/poi_ext.csv')\n",
    "\n",
    "# Replace word for word\n",
    "for i in tqdm(range(str_ext.shape[0])):\n",
    "    word = str_ext.word.iloc[i]\n",
    "    ext = str_ext.ext.iloc[i]\n",
    "    \n",
    "    te['raw_address'] = te['raw_address'].str.replace(r'\\b(' + word + r')\\b', ext)"
   ]
  },
  {
   "cell_type": "code",
   "execution_count": 10,
   "metadata": {},
   "outputs": [],
   "source": [
    "te = te[['id', 'raw_address']]"
   ]
  },
  {
   "cell_type": "code",
   "execution_count": 11,
   "metadata": {},
   "outputs": [],
   "source": [
    "te.to_csv('test_data/test_str-et1.csv', index=False)"
   ]
  },
  {
   "cell_type": "code",
   "execution_count": null,
   "metadata": {},
   "outputs": [],
   "source": []
  }
 ],
 "metadata": {
  "kernelspec": {
   "display_name": "nlp_base",
   "language": "python",
   "name": "nlp_base"
  },
  "language_info": {
   "codemirror_mode": {
    "name": "ipython",
    "version": 3
   },
   "file_extension": ".py",
   "mimetype": "text/x-python",
   "name": "python",
   "nbconvert_exporter": "python",
   "pygments_lexer": "ipython3",
   "version": "3.6.12"
  }
 },
 "nbformat": 4,
 "nbformat_minor": 4
}
